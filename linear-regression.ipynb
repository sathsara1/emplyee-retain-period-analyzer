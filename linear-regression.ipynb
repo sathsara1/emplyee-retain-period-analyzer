{
  "nbformat": 4,
  "nbformat_minor": 0,
  "metadata": {
    "colab": {
      "provenance": [],
      "authorship_tag": "ABX9TyPA6N5msNrnXdchkJdjhuJP",
      "include_colab_link": true
    },
    "kernelspec": {
      "name": "python3",
      "display_name": "Python 3"
    },
    "language_info": {
      "name": "python"
    }
  },
  "cells": [
    {
      "cell_type": "markdown",
      "metadata": {
        "id": "view-in-github",
        "colab_type": "text"
      },
      "source": [
        "<a href=\"https://colab.research.google.com/github/sathsara1/emplyee-retain-period-analyzer/blob/linear-regression/linear-regression.ipynb\" target=\"_parent\"><img src=\"https://colab.research.google.com/assets/colab-badge.svg\" alt=\"Open In Colab\"/></a>"
      ]
    },
    {
      "cell_type": "markdown",
      "source": [
        "#### Import packages and modules"
      ],
      "metadata": {
        "id": "EYqGWGbXHee3"
      }
    },
    {
      "cell_type": "code",
      "source": [
        "import os\n",
        "import kagglehub\n",
        "import shutil"
      ],
      "metadata": {
        "id": "VVaGnu9g4SO6"
      },
      "execution_count": 3,
      "outputs": []
    },
    {
      "cell_type": "code",
      "execution_count": 4,
      "metadata": {
        "id": "zVX-BokZ1wye",
        "colab": {
          "base_uri": "https://localhost:8080/"
        },
        "outputId": "49035601-df25-49a6-8ef7-051ec032b674"
      },
      "outputs": [
        {
          "output_type": "stream",
          "name": "stdout",
          "text": [
            "Using Colab cache for faster access to the 'employee-attrition-dataset' dataset.\n",
            "Path to dataset files: /kaggle/input/employee-attrition-dataset\n"
          ]
        }
      ],
      "source": [
        "path = kagglehub.dataset_download(\"stealthtechnologies/employee-attrition-dataset\")\n",
        "\n",
        "dataset_dir = \"./datasets\"\n",
        "\n",
        "os.makedirs(dataset_dir, exist_ok=True)\n",
        "shutil.copytree(path, dataset_dir, dirs_exist_ok=True)"
      ]
    }
  ]
}